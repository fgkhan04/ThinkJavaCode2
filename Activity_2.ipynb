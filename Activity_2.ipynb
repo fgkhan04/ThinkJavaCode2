{
  "cells": [
    {
      "cell_type": "markdown",
      "id": "05981bd6",
      "metadata": {
        "id": "05981bd6"
      },
      "source": [
        "# Activity 2:\n",
        "## Gaussian Elimination and LU Factorizations"
      ]
    },
    {
      "cell_type": "code",
      "execution_count": 1,
      "id": "2d70efc4",
      "metadata": {
        "id": "2d70efc4"
      },
      "outputs": [],
      "source": [
        "import numpy as np\n",
        "from numpy import random as RA"
      ]
    },
    {
      "cell_type": "markdown",
      "id": "67902316",
      "metadata": {
        "id": "67902316"
      },
      "source": [
        "In this activity, we will work to build an LU factorization algorithm from the ground up using only the most basic of built-in numpy commands. First, we'll review some array manipulation."
      ]
    },
    {
      "cell_type": "code",
      "execution_count": 3,
      "id": "debb8ef2",
      "metadata": {
        "id": "debb8ef2"
      },
      "outputs": [],
      "source": [
        "A=np.array([\n",
        "    [1,2,4,-3],\n",
        "    [2,6,1,7],\n",
        "    [-0.5,9,3,3],\n",
        "    [-1,2,-4,3]],\"float64\")"
      ]
    },
    {
      "cell_type": "markdown",
      "id": "a1f3076b",
      "metadata": {
        "id": "a1f3076b"
      },
      "source": [
        "You can change the elements of an array individually like so:"
      ]
    },
    {
      "cell_type": "code",
      "execution_count": 4,
      "id": "e7e3c37d",
      "metadata": {
        "id": "e7e3c37d",
        "outputId": "2307a736-2103-491e-f204-94a59a43a5d2",
        "colab": {
          "base_uri": "https://localhost:8080/"
        }
      },
      "outputs": [
        {
          "output_type": "stream",
          "name": "stdout",
          "text": [
            "B=\n",
            " [[ 1.   2.   4.  -3. ]\n",
            " [ 2.   6.   1.   7. ]\n",
            " [-0.5  9.   3.   3. ]\n",
            " [-1.   2.  -4.   3. ]]\n",
            "B=\n",
            " [[-99.    2.    4.   -3. ]\n",
            " [  2.    6.    1.    7. ]\n",
            " [ -0.5   9.    3.   99. ]\n",
            " [ -1.    2.   -4.    3. ]]\n"
          ]
        }
      ],
      "source": [
        "B=A.copy()\n",
        "print(\"B=\\n\",B)\n",
        "B[0][0]=-99\n",
        "B[2][3]=99\n",
        "print(\"B=\\n\",B)"
      ]
    },
    {
      "cell_type": "markdown",
      "id": "ab24dad3",
      "metadata": {
        "id": "ab24dad3"
      },
      "source": [
        "(recall the python indexing conventions: the top row/leftmost column are row/column zero)\n",
        "\n",
        "Arithmetic operations performed on arrays (or rows of arrays) are performed element-wise. For example:"
      ]
    },
    {
      "cell_type": "code",
      "execution_count": 5,
      "id": "bb593add",
      "metadata": {
        "id": "bb593add",
        "outputId": "b5bbd9ff-5aba-4eb8-faf8-b228bc926c5e",
        "colab": {
          "base_uri": "https://localhost:8080/"
        }
      },
      "outputs": [
        {
          "output_type": "stream",
          "name": "stdout",
          "text": [
            "A=\n",
            " [[ 1.   2.   4.  -3. ]\n",
            " [ 2.   6.   1.   7. ]\n",
            " [-0.5  9.   3.   3. ]\n",
            " [-1.   2.  -4.   3. ]] \n",
            "B=\n",
            " [[ 1.   2.   4.  -3. ]\n",
            " [ 2.   6.   1.   7. ]\n",
            " [-0.5  9.   3.   3. ]\n",
            " [-2.  36.  12.  12. ]]\n",
            "C=\n",
            " [[ -2.   -6.  -12.    9. ]\n",
            " [ -6.  -17.   -3.  -21. ]\n",
            " [  1.5 -27.   -8.   -9. ]\n",
            " [  3.   -6.   12.   -8. ]]\n"
          ]
        }
      ],
      "source": [
        "B=A.copy()\n",
        "B[3]=4*A[2] #change the fourth row of B to be four times the third row of A\n",
        "print(\"A=\\n\", A,\"\\nB=\\n\",B) #display A and B readably\n",
        "C=np.identity(4)-3*A #construct a new matrix given as the difference between the identity matrix and 3 times A\n",
        "print(\"C=\\n\",C) #display C readably\n"
      ]
    },
    {
      "cell_type": "markdown",
      "id": "c7dc726d",
      "metadata": {
        "id": "c7dc726d"
      },
      "source": [
        "You can also reference rows or elements of the same array."
      ]
    },
    {
      "cell_type": "code",
      "execution_count": 6,
      "id": "c87bd420",
      "metadata": {
        "id": "c87bd420",
        "outputId": "e36c7241-2b60-49dd-fcd5-a5a565e5f90a",
        "colab": {
          "base_uri": "https://localhost:8080/"
        }
      },
      "outputs": [
        {
          "output_type": "stream",
          "name": "stdout",
          "text": [
            "B=\n",
            " [[ 1.   2.   4.  -3. ]\n",
            " [ 2.   6.   1.   7. ]\n",
            " [-0.5  9.   3.   3. ]\n",
            " [-1.   2.  -4.   3. ]]\n",
            "B=\n",
            " [[ 6.  18.   3.  21. ]\n",
            " [ 2.   6.   1.   7. ]\n",
            " [-0.5  9.   3.   3. ]\n",
            " [-1.   2.  -4.   3. ]]\n",
            "B=\n",
            " [[  6.   18.    3.   21. ]\n",
            " [ 42.  126.   21.  147. ]\n",
            " [ -0.5   9.    3.    3. ]\n",
            " [ -1.    2.   -4.    3. ]]\n"
          ]
        }
      ],
      "source": [
        "B=A.copy()\n",
        "print(\"B=\\n\",B)\n",
        "B[0]=3*B[1]\n",
        "print(\"B=\\n\",B)\n",
        "B[1]=B[0][3]*B[1]\n",
        "print(\"B=\\n\",B)"
      ]
    },
    {
      "cell_type": "markdown",
      "id": "827f3c65",
      "metadata": {
        "id": "827f3c65"
      },
      "source": [
        "You can also swap rows of an array by calling a list of indices."
      ]
    },
    {
      "cell_type": "code",
      "execution_count": 7,
      "id": "d5d7a9ec",
      "metadata": {
        "id": "d5d7a9ec",
        "outputId": "96359fdb-24cd-4c94-d40b-76bcc584194d",
        "colab": {
          "base_uri": "https://localhost:8080/"
        }
      },
      "outputs": [
        {
          "output_type": "stream",
          "name": "stdout",
          "text": [
            "B=\n",
            " [[ 1.   2.   4.  -3. ]\n",
            " [ 2.   6.   1.   7. ]\n",
            " [-0.5  9.   3.   3. ]\n",
            " [-1.   2.  -4.   3. ]]\n",
            "B=\n",
            " [[-1.   2.  -4.   3. ]\n",
            " [ 2.   6.   1.   7. ]\n",
            " [-0.5  9.   3.   3. ]\n",
            " [ 1.   2.   4.  -3. ]]\n",
            "B=\n",
            " [[-1.   2.  -4.   3. ]\n",
            " [ 1.   2.   4.  -3. ]\n",
            " [ 2.   6.   1.   7. ]\n",
            " [-0.5  9.   3.   3. ]]\n"
          ]
        }
      ],
      "source": [
        "B=A.copy()\n",
        "print(\"B=\\n\",B)\n",
        "B[[0,3]]=B[[3,0]] #read this as \"set the 0th row and the 3rd row of B to be the 3rd and 0th rows of B\"\n",
        "print(\"B=\\n\",B)\n",
        "B[[1,2,3]]=B[[3,1,2]]\n",
        "print(\"B=\\n\",B)"
      ]
    },
    {
      "cell_type": "markdown",
      "id": "8fdc4f08",
      "metadata": {
        "id": "8fdc4f08"
      },
      "source": [
        "**You try:** copy $A$ (from above) to a new array $B$. move the bottom row to the top and shift the other rows down. Then, negate the new bottom row and multiply the new top row by $2$. Then, let $C=B-A$."
      ]
    },
    {
      "cell_type": "code",
      "execution_count": 19,
      "id": "8e2bc4bc",
      "metadata": {
        "id": "8e2bc4bc",
        "outputId": "60e32172-e9be-4b34-8aeb-19edf979c80c",
        "colab": {
          "base_uri": "https://localhost:8080/"
        }
      },
      "outputs": [
        {
          "output_type": "stream",
          "name": "stdout",
          "text": [
            "A=\n",
            " [[ 1.   2.   4.  -3. ]\n",
            " [ 2.   6.   1.   7. ]\n",
            " [-0.5  9.   3.   3. ]\n",
            " [-1.   2.  -4.   3. ]] \n",
            "B=\n",
            " [[-2.   4.  -8.   6. ]\n",
            " [ 1.   2.   4.  -3. ]\n",
            " [ 2.   6.   1.   7. ]\n",
            " [ 0.5 -9.  -3.  -3. ]] \n",
            "C=\n",
            " [[[ -3.    2.  -12.    9. ]]\n",
            "\n",
            " [[ -1.   -4.    3.  -10. ]]\n",
            "\n",
            " [[  2.5  -3.   -2.    4. ]]\n",
            "\n",
            " [[  1.5 -11.    1.   -6. ]]]\n"
          ]
        }
      ],
      "source": [
        "# YOUR CODE HERE\n",
        "B=A.copy()\n",
        "B[[3,0]] = B[[0,3]]\n",
        "B[[3,2]] = B[[2,3]]\n",
        "B[[2,1]] = B[[1,2]]\n",
        "B[3] = B[3] * (-1)\n",
        "B[0] = 2*B[0]\n",
        "\n",
        "C = np.array([[B[0] - A[0]], [B[1] - A[1]],[B[2] - A[2]],[B[3] - A[3]]])\n",
        "print(\"A=\\n\",A,\"\\nB=\\n\",B,\"\\nC=\\n\",C)\n",
        "#desired output:\n",
        "#A=\n",
        "# [[ 1.   2.   4.  -3. ]\n",
        "# [ 2.   6.   1.   7. ]\n",
        "# [-0.5  9.   3.   3. ]\n",
        "# [-1.   2.  -4.   3. ]]\n",
        "#B=\n",
        "# [[-2.   4.  -8.   6. ]\n",
        "# [ 1.   2.   4.  -3. ]\n",
        "# [ 2.   6.   1.   7. ]\n",
        "# [ 0.5 -9.  -3.  -3. ]]\n",
        "#C=\n",
        "# [[ -3.    2.  -12.    9. ]\n",
        "# [ -1.   -4.    3.  -10. ]\n",
        "# [  2.5  -3.   -2.    4. ]\n",
        "# [  1.5 -11.    1.   -6. ]]\n"
      ]
    },
    {
      "cell_type": "markdown",
      "id": "e9d3220c",
      "metadata": {
        "id": "e9d3220c"
      },
      "source": [
        "### Exercise 1: Regular Gaussian Elimination\n",
        "First, let's build an function to perform Gaussian Elimination in the case of a regular matrix.\n",
        "You are free to build your algorithm as you see fit (without using built-in functions which do the hard part for you), but here is a basic outline of one:\n",
        "* Set a variable n for the size of `A` using the `shape` method. `A.shape` returns a tuple with the dimensions of `A`, so if `A` is $n\\times n$, `A.shape[0]` will return `n`.\n",
        "* Copy A to a new array `U` (we'll generally avoid altering the input of our functions when unnecessary)\n",
        "* Use a for loop to iterate over `i` in `range(n)`. This parameter will represent the pivot we are currently working with. Then, within the for loop:\n",
        "    * \"Clear out\" column i below the pivot `U[i][i]` by iterating with a new for loop over `j` in `range(i+1,n)`. This `j` will parameterize the row we are currently \"clearing out.\"\n",
        "        * Change the `j`th row `U[j]` by subtracting the appropriate multiple of the `i`th row `U[i]` to clear out the $(i,j)$th entry `U[i][j]`.\n",
        "\n",
        "For the moment, we'll assume that the input is regular--don't worry for now about what happens in the case it is not."
      ]
    },
    {
      "cell_type": "code",
      "execution_count": 31,
      "id": "9d372749",
      "metadata": {
        "id": "9d372749"
      },
      "outputs": [],
      "source": [
        "def my_elim(A):\n",
        "# YOUR CODE HERE\n",
        "  n = A.shape[0]\n",
        "  U = A.copy()\n",
        "\n",
        "  for i in range(n):\n",
        "    for j in range(i+1,n):\n",
        "      pivot_factor = U[j,i]/U[i,i]\n",
        "      U[j,i:] = ((-1*pivot_factor) * (U[i,i:])) + (U[j,i:])\n",
        "\n",
        "  return U"
      ]
    },
    {
      "cell_type": "markdown",
      "id": "293db2cb",
      "metadata": {
        "id": "293db2cb"
      },
      "source": [
        "Try out your elimination function on the test matrix below (you have our word that it's regular)."
      ]
    },
    {
      "cell_type": "code",
      "execution_count": 32,
      "id": "5af180f2",
      "metadata": {
        "scrolled": true,
        "id": "5af180f2",
        "outputId": "ee9bfffb-77f4-4458-cecb-774e353b5730",
        "colab": {
          "base_uri": "https://localhost:8080/"
        }
      },
      "outputs": [
        {
          "output_type": "execute_result",
          "data": {
            "text/plain": [
              "array([[   5. ,    4. ,    0. ],\n",
              "       [   0. ,    0.2,    4. ],\n",
              "       [   0. ,    0. , -115. ]])"
            ]
          },
          "metadata": {},
          "execution_count": 32
        }
      ],
      "source": [
        "A=np.array([[5., 4., 0.],\n",
        "        [6., 5., 4.],\n",
        "        [0., 6., 5.]])\n",
        "my_elim(A)\n",
        "#desired output:\n",
        "#        array([[   5. ,    4. ,    0. ],\n",
        "#               [   0. ,    0.2,    4. ],\n",
        "#               [   0. ,    0. , -115. ]])"
      ]
    },
    {
      "cell_type": "markdown",
      "id": "f00644a8",
      "metadata": {
        "id": "f00644a8"
      },
      "source": [
        "### Exercise 2: LU Factorization\n",
        "Now, we'll add in code to compute the LU factorization of `A`.\n",
        "First, we'll need code to construct elementary matrices.\n",
        "In the cell below, define a function to give the $n\\times n$ elementary matrix $E$ where $E_{ij}=a$.\n",
        "\n",
        "One helpful numpy built-in function is `np.identity`. Try it out in the next cell"
      ]
    },
    {
      "cell_type": "code",
      "execution_count": 33,
      "id": "5e294768",
      "metadata": {
        "scrolled": true,
        "id": "5e294768",
        "outputId": "155902a9-af27-4c36-cd0b-914e073c8e90",
        "colab": {
          "base_uri": "https://localhost:8080/"
        }
      },
      "outputs": [
        {
          "output_type": "execute_result",
          "data": {
            "text/plain": [
              "array([[1., 0., 0., 0., 0.],\n",
              "       [0., 1., 0., 0., 0.],\n",
              "       [0., 0., 1., 0., 0.],\n",
              "       [0., 0., 0., 1., 0.],\n",
              "       [0., 0., 0., 0., 1.]])"
            ]
          },
          "metadata": {},
          "execution_count": 33
        }
      ],
      "source": [
        "np.identity(5)"
      ]
    },
    {
      "cell_type": "markdown",
      "id": "2c7834a6-8336-43bc-8a89-e7cd39e87a18",
      "metadata": {
        "id": "2c7834a6-8336-43bc-8a89-e7cd39e87a18"
      },
      "source": [
        "**Exercise: (a)** Now, use that to write your `elem_matrix` function. Now, use that to write your `elem_matrix` function."
      ]
    },
    {
      "cell_type": "markdown",
      "id": "d70f0fc5-4e8e-4c22-8d8e-f291630e6521",
      "metadata": {
        "id": "d70f0fc5-4e8e-4c22-8d8e-f291630e6521"
      },
      "source": [
        "___"
      ]
    },
    {
      "cell_type": "markdown",
      "id": "8c8d6c87-e4be-4f5d-ac60-3419aa4ec01e",
      "metadata": {
        "id": "8c8d6c87-e4be-4f5d-ac60-3419aa4ec01e"
      },
      "source": [
        "## Exercise 2: LU Factorization\n",
        "Now, we'll add in code to compute the LU factorization of `A`.\n",
        "First, we'll need code to construct elementary matrices.\n",
        "\n",
        "**(a)** Above, we saw how to perform elementary row operations on numpy `ndarray`s.\n",
        "Now, let's formalize that as a function.\n",
        "\n",
        "**(i): Write a function** which takes as input a matrix `A`, a constant `a` and indices `i` and `j` and adds `a` times row `i` to row `j`."
      ]
    },
    {
      "cell_type": "code",
      "execution_count": 36,
      "id": "f6de40a8-b32c-439e-b8cf-3341de9feca5",
      "metadata": {
        "id": "f6de40a8-b32c-439e-b8cf-3341de9feca5"
      },
      "outputs": [],
      "source": [
        "def row_op(A,a,i,j):\n",
        "    #YOUR CODE HERE\n",
        "    B = A.copy()\n",
        "\n",
        "    B[j] = (B[i])*a + B[j]\n",
        "\n",
        "    return B"
      ]
    },
    {
      "cell_type": "code",
      "execution_count": 37,
      "id": "2c600ef8-7109-4974-8be4-5c3b46aa3d1f",
      "metadata": {
        "id": "2c600ef8-7109-4974-8be4-5c3b46aa3d1f",
        "outputId": "586f30ca-066a-464e-a00f-e36cd1eabc11",
        "colab": {
          "base_uri": "https://localhost:8080/"
        }
      },
      "outputs": [
        {
          "output_type": "execute_result",
          "data": {
            "text/plain": [
              "array([[  2.,   4.,   6.,   8.],\n",
              "       [  6.,   9.,  12.,  15.],\n",
              "       [ 12.,  16.,  20.,  24.],\n",
              "       [  0., -15., -30., -45.]])"
            ]
          },
          "metadata": {},
          "execution_count": 37
        }
      ],
      "source": [
        "#Testing:\n",
        "M=np.array([[(i+2)*(i+j+1) for j in range(4)] for i in range(4)], \"float64\")\n",
        "row_op(M,-10,0,3)\n",
        "#desired output:\n",
        "#array([[  2.,   4.,   6.,   8.],\n",
        "#       [  6.,   9.,  12.,  15.],\n",
        "#       [ 12.,  16.,  20.,  24.],\n",
        "#       [  0., -15., -30., -45.]])"
      ]
    },
    {
      "cell_type": "markdown",
      "id": "00707460-a912-4c56-a098-7ead51aeace8",
      "metadata": {
        "id": "00707460-a912-4c56-a098-7ead51aeace8"
      },
      "source": [
        "___"
      ]
    },
    {
      "cell_type": "markdown",
      "id": "d1f28077-84ba-4c8b-aa11-2caa4a4199a2",
      "metadata": {
        "id": "d1f28077-84ba-4c8b-aa11-2caa4a4199a2"
      },
      "source": [
        "Now, try another approach.\n",
        "The $n\\times n$ identity matrix is given by the numpy function `np.identity(n)`.\n",
        "\n",
        "**(ii): Write a function** which performs the row operation above on  the identity matrix $I$ to yield the matrix $E$, then multiplies $E$ and $A$ to yield $EA$.\n",
        "Compare this new function and `row_op`.\n",
        "How is their output similar? How is it different?\n",
        "\n",
        "<details>\n",
        "    <summary>\n",
        "        <b> Hint:</b>\n",
        "        (Click here to open)\n",
        "    </summary>\n",
        "    \n",
        "Use `A.shape` to determine which size your identity matrix should be!\n",
        "    \n",
        "</details>"
      ]
    },
    {
      "cell_type": "code",
      "execution_count": 51,
      "id": "134eb315-d1a0-4074-9e53-853c09ecf639",
      "metadata": {
        "id": "134eb315-d1a0-4074-9e53-853c09ecf639"
      },
      "outputs": [],
      "source": [
        "def row_op2(A,a,i,j):\n",
        "    #YOUR CODE HERE\n",
        "    n = A.shape[0]\n",
        "    E = np.identity(n)\n",
        "\n",
        "    E[j,i] = a\n",
        "\n",
        "    return np.dot(E, A)\n",
        ""
      ]
    },
    {
      "cell_type": "code",
      "execution_count": 52,
      "id": "8b23f1bd-41b3-4af7-994a-2978eefa3557",
      "metadata": {
        "id": "8b23f1bd-41b3-4af7-994a-2978eefa3557",
        "outputId": "b1e6f462-73c5-42e6-809d-e4325677f621",
        "colab": {
          "base_uri": "https://localhost:8080/"
        }
      },
      "outputs": [
        {
          "output_type": "execute_result",
          "data": {
            "text/plain": [
              "array([[  1.,   0.,   0.,   0.],\n",
              "       [  0.,   1.,   0.,   0.],\n",
              "       [  0.,   0.,   1.,   0.],\n",
              "       [-10.,   0.,   0.,   1.]])"
            ]
          },
          "metadata": {},
          "execution_count": 52
        }
      ],
      "source": [
        "#Testing:\n",
        "row_op2(np.identity(4),-10,0,3)\n",
        "#desired output:\n",
        "#array([[  1.,   0.,   0.,   0.],\n",
        "#       [  0.,   1.,   0.,   0.],\n",
        "#       [  0.,   0.,   1.,   0.],\n",
        "#       [-10.,   0.,   0.,   1.]])"
      ]
    },
    {
      "cell_type": "code",
      "execution_count": null,
      "id": "6f0f1933-2e26-4866-898a-bfcdd483f3b8",
      "metadata": {
        "id": "6f0f1933-2e26-4866-898a-bfcdd483f3b8"
      },
      "outputs": [],
      "source": [
        "#Use this cell to experiment with row_op and row_op2"
      ]
    },
    {
      "cell_type": "markdown",
      "id": "e9ee07e0-ffcd-4fef-8c17-2aa893e08342",
      "metadata": {
        "id": "e9ee07e0-ffcd-4fef-8c17-2aa893e08342"
      },
      "source": [
        "___"
      ]
    },
    {
      "cell_type": "markdown",
      "id": "b8cc4016-20b3-4dd4-9056-1abb97d7252b",
      "metadata": {
        "id": "b8cc4016-20b3-4dd4-9056-1abb97d7252b"
      },
      "source": [
        "The matrix $E$ we constructed is the *Elementary matrix of type 1* representing the row operation!\n",
        "\n",
        "In the cell below, **(iii): define a function** to give the $n\\times n$ elementary matrix $E$ where $E_{ij}=a$.\n"
      ]
    },
    {
      "cell_type": "code",
      "execution_count": 50,
      "id": "cf62dc38",
      "metadata": {
        "id": "cf62dc38"
      },
      "outputs": [],
      "source": [
        "def elem_matrix(n,a,i,j):\n",
        "# YOUR CODE HERE\n",
        "    E = np.identity(n)\n",
        "\n",
        "    E[j,i] = a\n",
        "    return E"
      ]
    },
    {
      "cell_type": "markdown",
      "id": "9bc1f34b-e550-4e87-ae32-beab2ce28428",
      "metadata": {
        "id": "9bc1f34b-e550-4e87-ae32-beab2ce28428"
      },
      "source": [
        "___"
      ]
    },
    {
      "cell_type": "markdown",
      "id": "519e556d",
      "metadata": {
        "id": "519e556d"
      },
      "source": [
        "**(b)** Now let's modify your `my_elim` function to produce an LU factorization of your input matrix `A`.\n",
        "\n",
        "Some things to keep in mind:\n",
        "* You still don't need to worry about the case that `A` is irregular--for now, assume it is regular.\n",
        "* The `np.dot` function performs matrix multiplication (that is, $AB$ is given by `np.dot(A,B)`).\n",
        "* Page 17 of Olver-Shakiban gives the formula you'll need to form `L`. Initialize it as the appropriately-sized identity matrix, and multiply by the appropriate elementary matrix in each step of the iteration"
      ]
    },
    {
      "cell_type": "code",
      "execution_count": 62,
      "id": "a5166523",
      "metadata": {
        "id": "a5166523"
      },
      "outputs": [],
      "source": [
        "def my_LU(A):\n",
        "#YOUR CODE HERE\n",
        "  n = A.shape[0]\n",
        "  U = A.copy()\n",
        "  L = np.identity(n)\n",
        "  for i in range(n):\n",
        "    for j in range(i+1,n):\n",
        "      pivot_factor = U[j,i]/U[i,i]\n",
        "      U[j,i:] = ((-1*pivot_factor) * (U[i,i:])) + (U[j,i:])\n",
        "      L[j,i] = pivot_factor\n",
        "  return (L,U)"
      ]
    },
    {
      "cell_type": "markdown",
      "id": "b5e289bb",
      "metadata": {
        "id": "b5e289bb"
      },
      "source": [
        "Try it out in the next two cells."
      ]
    },
    {
      "cell_type": "code",
      "execution_count": 63,
      "id": "3e10d6d7",
      "metadata": {
        "id": "3e10d6d7",
        "outputId": "e007ade2-0cfa-48e6-8705-0d4425f356f9",
        "colab": {
          "base_uri": "https://localhost:8080/"
        }
      },
      "outputs": [
        {
          "output_type": "stream",
          "name": "stdout",
          "text": [
            "L=\n",
            " [[ 1.   0.   0. ]\n",
            " [ 1.2  1.   0. ]\n",
            " [ 0.  30.   1. ]] L=\n",
            " [[   5.     4.     0. ]\n",
            " [   0.     0.2    4. ]\n",
            " [   0.     0.  -115. ]]\n"
          ]
        }
      ],
      "source": [
        "#testing\n",
        "A=np.array([[5., 4., 0.],\n",
        "        [6., 5., 4.],\n",
        "        [0., 6., 5.]])\n",
        "(L,U)=my_LU(A)\n",
        "print(\"L=\\n\",L,\"L=\\n\",U)\n",
        "#desired output:\n",
        "#    (array([[ 1. ,  0. ,  0. ],\n",
        "#            [ 1.2,  1. ,  0. ],\n",
        "#            [ 0. , 30. ,  1. ]]),\n",
        "#     array([[   5. ,    4. ,    0. ],\n",
        "#            [   0. ,    0.2,    4. ],\n",
        "#            [   0. ,    0. , -115. ]]))"
      ]
    },
    {
      "cell_type": "code",
      "execution_count": 64,
      "id": "060bbe44",
      "metadata": {
        "id": "060bbe44",
        "outputId": "f40e28f4-713f-4447-b81d-fc64d982093c",
        "colab": {
          "base_uri": "https://localhost:8080/"
        }
      },
      "outputs": [
        {
          "output_type": "stream",
          "name": "stdout",
          "text": [
            "A=\n",
            " [[5. 4. 0.]\n",
            " [6. 5. 4.]\n",
            " [0. 6. 5.]] \n",
            "LU=\n",
            " [[5. 4. 0.]\n",
            " [6. 5. 4.]\n",
            " [0. 6. 5.]]\n"
          ]
        }
      ],
      "source": [
        "#Check if reconstruction works!\n",
        "print(\"A=\\n\",A,\"\\nLU=\\n\",np.dot(L,U))"
      ]
    },
    {
      "cell_type": "markdown",
      "id": "4b930034-f148-449c-a67a-b33066a648ee",
      "metadata": {
        "id": "4b930034-f148-449c-a67a-b33066a648ee"
      },
      "source": [
        "___"
      ]
    },
    {
      "cell_type": "markdown",
      "id": "34c78229",
      "metadata": {
        "id": "34c78229"
      },
      "source": [
        "**(c):**\n",
        "So far, we haven't had to worry about the case of irregular input. However, in practice, your code needs to at least let the user know when they have entered as input an irregular matrix.\n",
        "Python performs error handling by using the built-in `raise` command to raise an `Exception`, which is a message given to the user to inform them what's gone wrong. Below is a quick demonstration:"
      ]
    },
    {
      "cell_type": "code",
      "execution_count": 66,
      "id": "bd12a73b",
      "metadata": {
        "id": "bd12a73b"
      },
      "outputs": [],
      "source": [
        "def even_division(n):\n",
        "    if n%2 == 1: #check if n odd\n",
        "        raise Exception(\"input integer is odd\")\n",
        "    return n//2 #divide by 2\n",
        ""
      ]
    },
    {
      "cell_type": "code",
      "execution_count": 72,
      "id": "d86a08b3",
      "metadata": {
        "id": "d86a08b3",
        "outputId": "25f2ebae-fd66-4498-f335-f5a90077dc8a",
        "colab": {
          "base_uri": "https://localhost:8080/"
        }
      },
      "outputs": [
        {
          "output_type": "execute_result",
          "data": {
            "text/plain": [
              "2"
            ]
          },
          "metadata": {},
          "execution_count": 72
        }
      ],
      "source": [
        "even_division(4)"
      ]
    },
    {
      "cell_type": "code",
      "execution_count": 73,
      "id": "ae1e4417",
      "metadata": {
        "id": "ae1e4417",
        "outputId": "45cdbd26-7e13-4512-fb6a-a76cfefd17c7",
        "colab": {
          "base_uri": "https://localhost:8080/",
          "height": 267
        }
      },
      "outputs": [
        {
          "output_type": "error",
          "ename": "Exception",
          "evalue": "input integer is odd",
          "traceback": [
            "\u001b[0;31m---------------------------------------------------------------------------\u001b[0m",
            "\u001b[0;31mException\u001b[0m                                 Traceback (most recent call last)",
            "\u001b[0;32m/tmp/ipython-input-512236698.py\u001b[0m in \u001b[0;36m<cell line: 0>\u001b[0;34m()\u001b[0m\n\u001b[0;32m----> 1\u001b[0;31m \u001b[0meven_division\u001b[0m\u001b[0;34m(\u001b[0m\u001b[0;36m5\u001b[0m\u001b[0;34m)\u001b[0m\u001b[0;34m\u001b[0m\u001b[0;34m\u001b[0m\u001b[0m\n\u001b[0m",
            "\u001b[0;32m/tmp/ipython-input-1218520077.py\u001b[0m in \u001b[0;36meven_division\u001b[0;34m(n)\u001b[0m\n\u001b[1;32m      1\u001b[0m \u001b[0;32mdef\u001b[0m \u001b[0meven_division\u001b[0m\u001b[0;34m(\u001b[0m\u001b[0mn\u001b[0m\u001b[0;34m)\u001b[0m\u001b[0;34m:\u001b[0m\u001b[0;34m\u001b[0m\u001b[0;34m\u001b[0m\u001b[0m\n\u001b[1;32m      2\u001b[0m     \u001b[0;32mif\u001b[0m \u001b[0mn\u001b[0m\u001b[0;34m%\u001b[0m\u001b[0;36m2\u001b[0m \u001b[0;34m==\u001b[0m \u001b[0;36m1\u001b[0m\u001b[0;34m:\u001b[0m \u001b[0;31m#check if n odd\u001b[0m\u001b[0;34m\u001b[0m\u001b[0;34m\u001b[0m\u001b[0m\n\u001b[0;32m----> 3\u001b[0;31m         \u001b[0;32mraise\u001b[0m \u001b[0mException\u001b[0m\u001b[0;34m(\u001b[0m\u001b[0;34m\"input integer is odd\"\u001b[0m\u001b[0;34m)\u001b[0m\u001b[0;34m\u001b[0m\u001b[0;34m\u001b[0m\u001b[0m\n\u001b[0m\u001b[1;32m      4\u001b[0m     \u001b[0;32mreturn\u001b[0m \u001b[0mn\u001b[0m\u001b[0;34m//\u001b[0m\u001b[0;36m2\u001b[0m \u001b[0;31m#divide by 2\u001b[0m\u001b[0;34m\u001b[0m\u001b[0;34m\u001b[0m\u001b[0m\n\u001b[1;32m      5\u001b[0m \u001b[0;34m\u001b[0m\u001b[0m\n",
            "\u001b[0;31mException\u001b[0m: input integer is odd"
          ]
        }
      ],
      "source": [
        "even_division(5)"
      ]
    },
    {
      "cell_type": "markdown",
      "id": "cd5e5842",
      "metadata": {
        "id": "cd5e5842"
      },
      "source": [
        "**Exercise:**\n",
        "In the below cell, modify your code for `my_LU` to raise an exception when the input is an irregular matrix. The `Exception` should say \"Input matrix irregular.\""
      ]
    },
    {
      "cell_type": "code",
      "execution_count": 75,
      "id": "5e35f6b7",
      "metadata": {
        "id": "5e35f6b7"
      },
      "outputs": [],
      "source": [
        "def my_LU_safe(A):\n",
        "#YOUR CODE HERE\n",
        "  n = A.shape[0]\n",
        "  U = A.copy()\n",
        "  L = np.identity(n)\n",
        "\n",
        "\n",
        "  for i in range(n):\n",
        "    if A[i,i] == 0:\n",
        "      raise Exception (\"Input matrix irregular.\")\n",
        "    for j in range(i+1,n):\n",
        "      pivot_factor = U[j,i]/U[i,i]\n",
        "      U[j,i:] = ((-1*pivot_factor) * (U[i,i:])) + (U[j,i:])\n",
        "      L[j,i] = pivot_factor\n",
        "  return (L,U)"
      ]
    },
    {
      "cell_type": "code",
      "execution_count": 76,
      "id": "a6e72fe4",
      "metadata": {
        "id": "a6e72fe4",
        "outputId": "0ee7cf86-a556-4ced-ea17-1d06098fc9a1",
        "colab": {
          "base_uri": "https://localhost:8080/",
          "height": 303
        }
      },
      "outputs": [
        {
          "output_type": "error",
          "ename": "Exception",
          "evalue": "Input matrix irregular.",
          "traceback": [
            "\u001b[0;31m---------------------------------------------------------------------------\u001b[0m",
            "\u001b[0;31mException\u001b[0m                                 Traceback (most recent call last)",
            "\u001b[0;32m/tmp/ipython-input-3351145466.py\u001b[0m in \u001b[0;36m<cell line: 0>\u001b[0;34m()\u001b[0m\n\u001b[1;32m      1\u001b[0m \u001b[0;31m#Testing\u001b[0m\u001b[0;34m\u001b[0m\u001b[0;34m\u001b[0m\u001b[0m\n\u001b[1;32m      2\u001b[0m \u001b[0mA\u001b[0m\u001b[0;34m=\u001b[0m\u001b[0mnp\u001b[0m\u001b[0;34m.\u001b[0m\u001b[0marray\u001b[0m\u001b[0;34m(\u001b[0m\u001b[0;34m[\u001b[0m\u001b[0;34m[\u001b[0m\u001b[0mi\u001b[0m\u001b[0;34m*\u001b[0m\u001b[0mj\u001b[0m \u001b[0;32mfor\u001b[0m \u001b[0mj\u001b[0m \u001b[0;32min\u001b[0m \u001b[0mrange\u001b[0m\u001b[0;34m(\u001b[0m\u001b[0;36m5\u001b[0m\u001b[0;34m)\u001b[0m\u001b[0;34m]\u001b[0m \u001b[0;32mfor\u001b[0m \u001b[0mi\u001b[0m \u001b[0;32min\u001b[0m \u001b[0mrange\u001b[0m\u001b[0;34m(\u001b[0m\u001b[0;36m5\u001b[0m\u001b[0;34m)\u001b[0m\u001b[0;34m]\u001b[0m\u001b[0;34m)\u001b[0m \u001b[0;31m#This should throw an exception\u001b[0m\u001b[0;34m\u001b[0m\u001b[0;34m\u001b[0m\u001b[0m\n\u001b[0;32m----> 3\u001b[0;31m \u001b[0mmy_LU_safe\u001b[0m\u001b[0;34m(\u001b[0m\u001b[0mA\u001b[0m\u001b[0;34m)\u001b[0m\u001b[0;34m\u001b[0m\u001b[0;34m\u001b[0m\u001b[0m\n\u001b[0m",
            "\u001b[0;32m/tmp/ipython-input-2525802273.py\u001b[0m in \u001b[0;36mmy_LU_safe\u001b[0;34m(A)\u001b[0m\n\u001b[1;32m      8\u001b[0m   \u001b[0;32mfor\u001b[0m \u001b[0mi\u001b[0m \u001b[0;32min\u001b[0m \u001b[0mrange\u001b[0m\u001b[0;34m(\u001b[0m\u001b[0mn\u001b[0m\u001b[0;34m)\u001b[0m\u001b[0;34m:\u001b[0m\u001b[0;34m\u001b[0m\u001b[0;34m\u001b[0m\u001b[0m\n\u001b[1;32m      9\u001b[0m     \u001b[0;32mif\u001b[0m \u001b[0mA\u001b[0m\u001b[0;34m[\u001b[0m\u001b[0mi\u001b[0m\u001b[0;34m,\u001b[0m\u001b[0mi\u001b[0m\u001b[0;34m]\u001b[0m \u001b[0;34m==\u001b[0m \u001b[0;36m0\u001b[0m\u001b[0;34m:\u001b[0m\u001b[0;34m\u001b[0m\u001b[0;34m\u001b[0m\u001b[0m\n\u001b[0;32m---> 10\u001b[0;31m       \u001b[0;32mraise\u001b[0m \u001b[0mException\u001b[0m \u001b[0;34m(\u001b[0m\u001b[0;34m\"Input matrix irregular.\"\u001b[0m\u001b[0;34m)\u001b[0m\u001b[0;34m\u001b[0m\u001b[0;34m\u001b[0m\u001b[0m\n\u001b[0m\u001b[1;32m     11\u001b[0m     \u001b[0;32mfor\u001b[0m \u001b[0mj\u001b[0m \u001b[0;32min\u001b[0m \u001b[0mrange\u001b[0m\u001b[0;34m(\u001b[0m\u001b[0mi\u001b[0m\u001b[0;34m+\u001b[0m\u001b[0;36m1\u001b[0m\u001b[0;34m,\u001b[0m\u001b[0mn\u001b[0m\u001b[0;34m)\u001b[0m\u001b[0;34m:\u001b[0m\u001b[0;34m\u001b[0m\u001b[0;34m\u001b[0m\u001b[0m\n\u001b[1;32m     12\u001b[0m       \u001b[0mpivot_factor\u001b[0m \u001b[0;34m=\u001b[0m \u001b[0mU\u001b[0m\u001b[0;34m[\u001b[0m\u001b[0mj\u001b[0m\u001b[0;34m,\u001b[0m\u001b[0mi\u001b[0m\u001b[0;34m]\u001b[0m\u001b[0;34m/\u001b[0m\u001b[0mU\u001b[0m\u001b[0;34m[\u001b[0m\u001b[0mi\u001b[0m\u001b[0;34m,\u001b[0m\u001b[0mi\u001b[0m\u001b[0;34m]\u001b[0m\u001b[0;34m\u001b[0m\u001b[0;34m\u001b[0m\u001b[0m\n",
            "\u001b[0;31mException\u001b[0m: Input matrix irregular."
          ]
        }
      ],
      "source": [
        "#Testing\n",
        "A=np.array([[i*j for j in range(5)] for i in range(5)]) #This should throw an exception\n",
        "my_LU_safe(A)"
      ]
    },
    {
      "cell_type": "markdown",
      "id": "d84e4e9a-d219-410b-b4db-72b99a6ec29b",
      "metadata": {
        "id": "d84e4e9a-d219-410b-b4db-72b99a6ec29b"
      },
      "source": [
        "___"
      ]
    },
    {
      "cell_type": "markdown",
      "id": "62960573",
      "metadata": {
        "id": "62960573"
      },
      "source": [
        "### Exercise 3: Solving Linear Systems\n",
        "One of the major use cases for LU factorization is solving systems by forward- and back- substitution, as described in Olver-Shakiban, section 1.3.\n",
        "To solve a system $A\\vec{x}=\\vec{b}$, this works by\n",
        "* computing an LU factorization $A=LU$,\n",
        "* Solving the system $L\\vec{c}=\\vec{b}$\n",
        "* Solving the system $U \\vec{x}= \\vec{c}$\n",
        "\n",
        "**Exercise:** Below, give code which implements this using `my_LU`. Do *not* use any `numpy` built-in functions which trivialize any part of this (such as taking matrix inverses)--rather you should write code to perform the substitution manually. You may choose to proceed by writing a function for back substitution then another for forward substitution if you wish--that approach is outlined below.\n",
        "Be sure to test your code before you submit!"
      ]
    },
    {
      "cell_type": "code",
      "execution_count": 84,
      "id": "6814d922",
      "metadata": {
        "id": "6814d922"
      },
      "outputs": [],
      "source": [
        "def forward_sub(L,b):\n",
        "  n = L.shape[0]\n",
        "  c = np.zeros(n, dtype=float)\n",
        "\n",
        "  for i in range(n):\n",
        "      s = 0.0\n",
        "      for k in range(i):\n",
        "          s += L[i, k] * c[k]\n",
        "      c[i] = b[i] - s\n",
        "  return c\n",
        "\n",
        "def back_sub(U, c):\n",
        "    n = U.shape[0]\n",
        "    x = np.zeros(n, dtype=float)\n",
        "    for i in range(n-1, -1, -1):\n",
        "        s = 0.0\n",
        "        for k in range(i+1, n):\n",
        "            s += U[i, k] * x[k]\n",
        "        if U[i, i] == 0:\n",
        "            raise ZeroDivisionError(\"Zero pivot in U.\")\n",
        "        x[i] = (c[i] - s) / U[i, i]\n",
        "    return x\n"
      ]
    },
    {
      "cell_type": "code",
      "execution_count": 87,
      "id": "8754e60e",
      "metadata": {
        "id": "8754e60e"
      },
      "outputs": [],
      "source": [
        "def my_solver(A,b):\n",
        "  (L,U) = my_LU_safe(A)\n",
        "  c = forward_sub(L,b)\n",
        "\n",
        "  x = back_sub(U, c)\n",
        "\n",
        "  return x"
      ]
    },
    {
      "cell_type": "code",
      "execution_count": 107,
      "id": "aa47d23e",
      "metadata": {
        "id": "aa47d23e",
        "outputId": "5a23a8aa-f031-43e4-8260-a7b5b3bbc28c",
        "colab": {
          "base_uri": "https://localhost:8080/"
        }
      },
      "outputs": [
        {
          "output_type": "stream",
          "name": "stdout",
          "text": [
            "[ 0.00000000e+00 -3.33066907e-16 -2.22044605e-16 -2.22044605e-16\n",
            " -3.33066907e-16 -2.22044605e-16  1.11022302e-16 -4.44089210e-16\n",
            "  1.11022302e-16  4.44089210e-16]\n"
          ]
        },
        {
          "output_type": "execute_result",
          "data": {
            "text/plain": [
              "np.True_"
            ]
          },
          "metadata": {},
          "execution_count": 107
        }
      ],
      "source": [
        "#testing your code\n",
        "A=RA.rand(10,10)\n",
        "b=RA.rand(10)\n",
        "x=my_solver(A,b)\n",
        "Ax=np.dot(A,x)\n",
        "print(Ax-b) #should get vector of zeros, or close to it.\n",
        "max(Ax-b)<10**(-14) #check that result is within numerical errors of correct"
      ]
    },
    {
      "cell_type": "markdown",
      "id": "98438f5d-5798-47af-9ce3-cab97d2dd248",
      "metadata": {
        "id": "98438f5d-5798-47af-9ce3-cab97d2dd248"
      },
      "source": [
        "___"
      ]
    },
    {
      "cell_type": "markdown",
      "id": "fa329e99",
      "metadata": {
        "id": "fa329e99"
      },
      "source": [
        "### Exercise 4 (Challenge!): Hilbert Matrices and Numerical Instability.\n",
        "LU sadly suffers from some numerical instability.\n",
        "This rears its head in particular when the input matrix $A$ is *ill-conditioned*, meaning that the product $A\\vec x$ can change significantly with relatively small perturbations of the input.\n",
        "A classic example is the $n$th *Hilbert matrix* $H_n$, given entrywise by $$H_n=\\left(\\frac{1}{i+j-1}\\right)_{i,j}$$ where $i,j$ range over $1,\\dots,n$.\n",
        "For example, the third Hilbert matrix is\n",
        "$$H_3=\\begin{pmatrix}\n",
        "1 & \\frac12 & \\frac13\\\\\n",
        "\\frac12 & \\frac13 & \\frac14\\\\\n",
        "\\frac13 & \\frac14 & \\frac15\n",
        "\\end{pmatrix}.$$\n",
        "\n",
        "**Exercise: (a)** Write a function `hilbert` which takes as input an integer `n` and returns the `n`th Hilbert matrix $H_n$. Be careful to account for python's indexing."
      ]
    },
    {
      "cell_type": "code",
      "execution_count": 117,
      "id": "276effcd",
      "metadata": {
        "id": "276effcd"
      },
      "outputs": [],
      "source": [
        "def hilbert(n):\n",
        "  H = np.empty((n,n),dtype=float)\n",
        "  for i in range(n):\n",
        "    for j in range(n):\n",
        "      H[i,j] = 1/((i+1)+(j+1)-1)\n",
        "  return H"
      ]
    },
    {
      "cell_type": "code",
      "execution_count": 118,
      "id": "b701d84a-b6a1-4bd9-a6f6-5a121de39d88",
      "metadata": {
        "id": "b701d84a-b6a1-4bd9-a6f6-5a121de39d88",
        "outputId": "07482138-e9df-43a0-ffaa-a077205119ee",
        "colab": {
          "base_uri": "https://localhost:8080/"
        }
      },
      "outputs": [
        {
          "output_type": "execute_result",
          "data": {
            "text/plain": [
              "array([[1.        , 0.5       , 0.33333333, 0.25      , 0.2       ],\n",
              "       [0.5       , 0.33333333, 0.25      , 0.2       , 0.16666667],\n",
              "       [0.33333333, 0.25      , 0.2       , 0.16666667, 0.14285714],\n",
              "       [0.25      , 0.2       , 0.16666667, 0.14285714, 0.125     ],\n",
              "       [0.2       , 0.16666667, 0.14285714, 0.125     , 0.11111111]])"
            ]
          },
          "metadata": {},
          "execution_count": 118
        }
      ],
      "source": [
        "hilbert(5)"
      ]
    },
    {
      "cell_type": "markdown",
      "id": "f2c80efb-6b2b-4f79-9510-76ccacf19740",
      "metadata": {
        "id": "f2c80efb-6b2b-4f79-9510-76ccacf19740"
      },
      "source": [
        "___"
      ]
    },
    {
      "cell_type": "markdown",
      "id": "f1623cf4-7d28-41e3-9da2-9fe022d18651",
      "metadata": {
        "id": "f1623cf4-7d28-41e3-9da2-9fe022d18651"
      },
      "source": [
        "**(b):** A good way to check the numerical accuracy of a linear system solver such as `my_solver` for a given matrix $A$ is to generate a random vector $\\vec x_0$ of appropriate dimension, set $\\vec b$ to be the product $\\vec b = A \\vec x_0$, and then set $\\vec x_1$ to be the result of running the solver on the linear system $A\\vec x= \\vec b$.\n",
        "In principle, $\\vec x_1$ should be equal to $\\vec x_0$, but as we'll see, thanks to rounding errors, this is not always the case in practice.\n",
        "Write a function `hilbert_checker` takes as input a parameter `max_discrepancy` and then loops to perform the process above for increasing dimensions $n$ starting with $n=1$. Use `np.random.rand` (imported for convenience as `RA.rand`) to generate your random vectors. At each stage in the loop, print the current entry `n` and the maximum entry of the absolute difference $\\left \\lvert \\vec x_0- \\vec x_1\\right \\rvert$. Your loop should terminate when the maximum difference in absolute value between $\\vec x_0$ and $\\vec x_1$ exceeds `max_discrepancy`, returning the dimension `n` at which that occurred. How long does it take for `max_discrepancy` to exceed $10^{-8}$? What about $10^{-4}$,  $10^{-2}$,  1, 100, or 10000? Try running `hilbert_checker` a few times for the same value of `max_discrepancy`. Do you get similar results? Write a few words below summarizing your observations.\n",
        "\n",
        "*Note:* While the python built-in function `abs` does work as expected with `numpy` arrays, the same cannot be said for `max`. Rather, use `np.max`."
      ]
    },
    {
      "cell_type": "code",
      "execution_count": 125,
      "id": "d3f20905-5aaf-44d1-8a5c-393a1f012e51",
      "metadata": {
        "id": "d3f20905-5aaf-44d1-8a5c-393a1f012e51"
      },
      "outputs": [],
      "source": [
        "def hilbert_checker(max_discrepancy=1):\n",
        "  n = 0\n",
        "  while True:\n",
        "        n += 1\n",
        "        A  = hilbert(n).astype(float)\n",
        "        x0 = RA.rand(n)\n",
        "        b  = np.dot(A,x0)\n",
        "        x1 = my_solver(A, b)\n",
        "\n",
        "        max = np.abs(x0 - x1).max()\n",
        "        print(f\"n={n:3d}  max|x0 - x1| = {max:.3e}\")\n",
        "\n",
        "        if dmax > max_discrepancy:\n",
        "            return n"
      ]
    },
    {
      "cell_type": "code",
      "execution_count": 123,
      "id": "631d995a-a72f-450e-9408-55afc209a01b",
      "metadata": {
        "id": "631d995a-a72f-450e-9408-55afc209a01b",
        "outputId": "5fc26d32-4e48-4a75-8abd-7cfcdb0b4ed0",
        "colab": {
          "base_uri": "https://localhost:8080/"
        }
      },
      "outputs": [
        {
          "output_type": "stream",
          "name": "stdout",
          "text": [
            "n=  1  max|x0 - x1| = 0.000e+00\n",
            "n=  2  max|x0 - x1| = 2.220e-16\n",
            "n=  3  max|x0 - x1| = 1.199e-14\n",
            "n=  4  max|x0 - x1| = 2.958e-13\n",
            "n=  5  max|x0 - x1| = 4.567e-12\n",
            "n=  6  max|x0 - x1| = 9.472e-11\n",
            "n=  7  max|x0 - x1| = 5.480e-09\n",
            "n=  8  max|x0 - x1| = 7.142e-08\n",
            "n=  1  max|x0 - x1| = 0.000e+00\n",
            "n=  2  max|x0 - x1| = 2.220e-16\n",
            "n=  3  max|x0 - x1| = 8.687e-15\n",
            "n=  4  max|x0 - x1| = 7.316e-14\n",
            "n=  5  max|x0 - x1| = 2.541e-12\n",
            "n=  6  max|x0 - x1| = 1.185e-10\n",
            "n=  7  max|x0 - x1| = 1.451e-08\n",
            "n=  8  max|x0 - x1| = 2.050e-07\n",
            "n=  9  max|x0 - x1| = 1.367e-05\n",
            "n= 10  max|x0 - x1| = 2.714e-04\n",
            "n=  1  max|x0 - x1| = 0.000e+00\n",
            "n=  2  max|x0 - x1| = 5.551e-17\n",
            "n=  3  max|x0 - x1| = 5.274e-15\n",
            "n=  4  max|x0 - x1| = 8.138e-14\n",
            "n=  5  max|x0 - x1| = 1.152e-11\n",
            "n=  6  max|x0 - x1| = 2.105e-10\n",
            "n=  7  max|x0 - x1| = 9.635e-09\n",
            "n=  8  max|x0 - x1| = 2.842e-07\n",
            "n=  9  max|x0 - x1| = 1.636e-06\n",
            "n= 10  max|x0 - x1| = 3.255e-04\n",
            "n= 11  max|x0 - x1| = 9.188e-03\n",
            "n= 12  max|x0 - x1| = 4.203e-01\n"
          ]
        },
        {
          "output_type": "execute_result",
          "data": {
            "text/plain": [
              "12"
            ]
          },
          "metadata": {},
          "execution_count": 123
        }
      ],
      "source": [
        "#Use this cell to test it out!\n",
        "hilbert_checker(1e-8)\n",
        "hilbert_checker(1e-4)\n",
        "hilbert_checker(1e-2)"
      ]
    },
    {
      "cell_type": "markdown",
      "id": "3ab097f5-0bc9-4756-9729-682baa375cc4",
      "metadata": {
        "id": "3ab097f5-0bc9-4756-9729-682baa375cc4"
      },
      "source": [
        "(This is a blank markdown cell to write down some observations)"
      ]
    },
    {
      "cell_type": "code",
      "execution_count": null,
      "id": "57909fcb-b53f-4e26-8708-bd5af7d38ead",
      "metadata": {
        "id": "57909fcb-b53f-4e26-8708-bd5af7d38ead"
      },
      "outputs": [],
      "source": []
    }
  ],
  "metadata": {
    "kernelspec": {
      "display_name": "Python 3 (ipykernel)",
      "language": "python",
      "name": "python3"
    },
    "language_info": {
      "codemirror_mode": {
        "name": "ipython",
        "version": 3
      },
      "file_extension": ".py",
      "mimetype": "text/x-python",
      "name": "python",
      "nbconvert_exporter": "python",
      "pygments_lexer": "ipython3",
      "version": "3.10.12"
    },
    "colab": {
      "provenance": []
    }
  },
  "nbformat": 4,
  "nbformat_minor": 5
}